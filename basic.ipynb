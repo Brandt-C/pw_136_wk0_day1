{
 "cells": [
  {
   "cell_type": "code",
   "execution_count": 2,
   "id": "f1c491f3",
   "metadata": {},
   "outputs": [],
   "source": [
    "x = 56"
   ]
  },
  {
   "cell_type": "code",
   "execution_count": null,
   "id": "f6911c41",
   "metadata": {},
   "outputs": [],
   "source": []
  },
  {
   "cell_type": "code",
   "execution_count": 2,
   "id": "1e4b4d69",
   "metadata": {},
   "outputs": [
    {
     "ename": "NameError",
     "evalue": "name 'x' is not defined",
     "output_type": "error",
     "traceback": [
      "\u001b[1;31m---------------------------------------------------------------------------\u001b[0m",
      "\u001b[1;31mNameError\u001b[0m                                 Traceback (most recent call last)",
      "Cell \u001b[1;32mIn [2], line 1\u001b[0m\n\u001b[1;32m----> 1\u001b[0m \u001b[38;5;28mprint\u001b[39m(x)\n",
      "\u001b[1;31mNameError\u001b[0m: name 'x' is not defined"
     ]
    }
   ],
   "source": [
    "print(x)"
   ]
  },
  {
   "cell_type": "markdown",
   "id": "6b86320c",
   "metadata": {},
   "source": [
    "## This is a heading!"
   ]
  },
  {
   "cell_type": "code",
   "execution_count": null,
   "id": "ba40024c",
   "metadata": {},
   "outputs": [],
   "source": []
  },
  {
   "cell_type": "code",
   "execution_count": null,
   "id": "64c2cc4f",
   "metadata": {},
   "outputs": [],
   "source": []
  },
  {
   "cell_type": "code",
   "execution_count": null,
   "id": "a515c52d",
   "metadata": {},
   "outputs": [],
   "source": []
  },
  {
   "cell_type": "code",
   "execution_count": null,
   "id": "539810f5",
   "metadata": {},
   "outputs": [],
   "source": []
  },
  {
   "cell_type": "code",
   "execution_count": null,
   "id": "ada47c52",
   "metadata": {},
   "outputs": [],
   "source": []
  },
  {
   "cell_type": "code",
   "execution_count": null,
   "id": "6720a6b1",
   "metadata": {},
   "outputs": [],
   "source": []
  },
  {
   "cell_type": "code",
   "execution_count": null,
   "id": "7eb95874",
   "metadata": {},
   "outputs": [],
   "source": []
  },
  {
   "cell_type": "code",
   "execution_count": 3,
   "id": "6ae611ba",
   "metadata": {},
   "outputs": [],
   "source": [
    "y = 987"
   ]
  },
  {
   "cell_type": "code",
   "execution_count": 4,
   "id": "772add1b",
   "metadata": {},
   "outputs": [
    {
     "name": "stdout",
     "output_type": "stream",
     "text": [
      "987\n"
     ]
    }
   ],
   "source": [
    "print(y)"
   ]
  },
  {
   "cell_type": "code",
   "execution_count": 9,
   "id": "fc445ad0",
   "metadata": {},
   "outputs": [],
   "source": [
    "a_string = ';lkajshdf ;alkhs df;lkahds ;lkjha sd'"
   ]
  },
  {
   "cell_type": "code",
   "execution_count": null,
   "id": "cc3260ab",
   "metadata": {},
   "outputs": [],
   "source": [
    "print(y + a_string)"
   ]
  },
  {
   "cell_type": "code",
   "execution_count": null,
   "id": "3abf5e85",
   "metadata": {},
   "outputs": [],
   "source": []
  },
  {
   "cell_type": "code",
   "execution_count": 6,
   "id": "9e74e70d",
   "metadata": {},
   "outputs": [
    {
     "name": "stdout",
     "output_type": "stream",
     "text": [
      "Helllllo!\n"
     ]
    }
   ],
   "source": [
    "print('Helllllo!')"
   ]
  },
  {
   "cell_type": "code",
   "execution_count": null,
   "id": "e5b07b39",
   "metadata": {},
   "outputs": [],
   "source": []
  },
  {
   "cell_type": "code",
   "execution_count": 11,
   "id": "515818b8",
   "metadata": {},
   "outputs": [
    {
     "name": "stdout",
     "output_type": "stream",
     "text": [
      ";lkajshdf ;alkhs df;lkahds ;lkjha sd\n"
     ]
    }
   ],
   "source": [
    "print(a_string)"
   ]
  }
 ],
 "metadata": {
  "kernelspec": {
   "display_name": "Python 3 (ipykernel)",
   "language": "python",
   "name": "python3"
  },
  "language_info": {
   "codemirror_mode": {
    "name": "ipython",
    "version": 3
   },
   "file_extension": ".py",
   "mimetype": "text/x-python",
   "name": "python",
   "nbconvert_exporter": "python",
   "pygments_lexer": "ipython3",
   "version": "3.9.7"
  }
 },
 "nbformat": 4,
 "nbformat_minor": 5
}
